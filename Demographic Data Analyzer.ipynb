{
 "cells": [
  {
   "cell_type": "markdown",
   "metadata": {},
   "source": [
    "# Demographic Data\n",
    "\n",
    "This project is an assignment for a freecodecamp.com certificate. This data is taken from the 1994 US census. Our goal is to answer a series of questions about different populations."
   ]
  },
  {
   "cell_type": "code",
   "execution_count": 1,
   "metadata": {
    "scrolled": true
   },
   "outputs": [
    {
     "name": "stdout",
     "output_type": "stream",
     "text": [
      "   age         workclass  fnlwgt  education  education-num  \\\n",
      "0   39         State-gov   77516  Bachelors             13   \n",
      "1   50  Self-emp-not-inc   83311  Bachelors             13   \n",
      "2   38           Private  215646    HS-grad              9   \n",
      "3   53           Private  234721       11th              7   \n",
      "4   28           Private  338409  Bachelors             13   \n",
      "\n",
      "       marital-status         occupation   relationship   race     sex  \\\n",
      "0       Never-married       Adm-clerical  Not-in-family  White    Male   \n",
      "1  Married-civ-spouse    Exec-managerial        Husband  White    Male   \n",
      "2            Divorced  Handlers-cleaners  Not-in-family  White    Male   \n",
      "3  Married-civ-spouse  Handlers-cleaners        Husband  Black    Male   \n",
      "4  Married-civ-spouse     Prof-specialty           Wife  Black  Female   \n",
      "\n",
      "   capital-gain  capital-loss  hours-per-week native-country salary  \n",
      "0          2174             0              40  United-States  <=50K  \n",
      "1             0             0              13  United-States  <=50K  \n",
      "2             0             0              40  United-States  <=50K  \n",
      "3             0             0              40  United-States  <=50K  \n",
      "4             0             0              40           Cuba  <=50K  \n"
     ]
    }
   ],
   "source": [
    "import pandas as pd\n",
    "import numpy as np\n",
    "my_df = pd.read_csv(\"adult.data.csv\")\n",
    "print(my_df.head())"
   ]
  },
  {
   "cell_type": "markdown",
   "metadata": {},
   "source": [
    "To begin, we're looking for a count of how many people of different races are included in the dataset."
   ]
  },
  {
   "cell_type": "code",
   "execution_count": 2,
   "metadata": {},
   "outputs": [
    {
     "name": "stdout",
     "output_type": "stream",
     "text": [
      "White                 27816\n",
      "Black                  3124\n",
      "Asian-Pac-Islander     1039\n",
      "Amer-Indian-Eskimo      311\n",
      "Other                   271\n",
      "Name: race, dtype: int64\n"
     ]
    }
   ],
   "source": [
    "counts = my_df[\"race\"].value_counts()\n",
    "print(counts)"
   ]
  },
  {
   "cell_type": "markdown",
   "metadata": {},
   "source": [
    "Next is average age of all male entries, which is easy enough with the .mean() method."
   ]
  },
  {
   "cell_type": "code",
   "execution_count": 3,
   "metadata": {},
   "outputs": [
    {
     "name": "stdout",
     "output_type": "stream",
     "text": [
      "39.4\n"
     ]
    }
   ],
   "source": [
    "average_df = my_df[my_df[\"sex\"]==\"Male\"]\n",
    "aver_age = round(average_df['age'].mean(), 1)\n",
    "print(aver_age)\n"
   ]
  },
  {
   "cell_type": "markdown",
   "metadata": {},
   "source": [
    "Next we're looking for the percentage of people who have a bachelors degree. We can filter, then sum up number of entries where Bachelor's = True, then divide by the total number of entries."
   ]
  },
  {
   "cell_type": "code",
   "execution_count": 4,
   "metadata": {},
   "outputs": [
    {
     "name": "stdout",
     "output_type": "stream",
     "text": [
      "16.4\n",
      "<=50K    24720\n",
      ">50K      7841\n",
      "Name: salary, dtype: int64\n"
     ]
    }
   ],
   "source": [
    "percent = ((my_df[\"education\"]== \"Bachelors\").sum()/ len(my_df[\"education\"])) * 100\n",
    "percent = round(percent, 1)\n",
    "print(percent)\n",
    "\n",
    "print(my_df[\"salary\"].value_counts())"
   ]
  },
  {
   "cell_type": "markdown",
   "metadata": {},
   "source": [
    "We're looking for the percentage of people with advanced education (Bachelors, Masters, or Doctorate) who make more than 50K. This gets a little bit more complicated, but combining different filters makes it fairly straight forward."
   ]
  },
  {
   "cell_type": "code",
   "execution_count": 5,
   "metadata": {},
   "outputs": [
    {
     "name": "stdout",
     "output_type": "stream",
     "text": [
      "46.5\n"
     ]
    }
   ],
   "source": [
    "richer_folks_edu = len((my_df[(my_df[\"salary\"]==\">50K\") & ((my_df[\"education\"]== \"Bachelors\") | (my_df[\"education\"]==\"Masters\") | (my_df[\"education\"]==\"Doctorate\"))]))\n",
    "\n",
    "all_edu = len((my_df[(my_df[\"education\"]== \"Bachelors\") | (my_df[\"education\"]==\"Masters\") | (my_df[\"education\"]==\"Doctorate\")]))\n",
    "\n",
    "edu_percent = round((richer_folks_edu/all_edu) * 100, 1)\n",
    "print(edu_percent)\n"
   ]
  },
  {
   "cell_type": "markdown",
   "metadata": {},
   "source": [
    "Then we're trying to find the percentage of people without advanced education degrees that make more than 50K. I listed the value counts of the education column to see which way would be the quickest to specify the values. As there are many more non-degree values than degree values, it was faster to just use != \"degree type.\" Then I calculated and rounded the value."
   ]
  },
  {
   "cell_type": "code",
   "execution_count": 11,
   "metadata": {},
   "outputs": [
    {
     "name": "stdout",
     "output_type": "stream",
     "text": [
      "HS-grad         10501\n",
      "Some-college     7291\n",
      "Bachelors        5355\n",
      "Masters          1723\n",
      "Assoc-voc        1382\n",
      "11th             1175\n",
      "Assoc-acdm       1067\n",
      "10th              933\n",
      "7th-8th           646\n",
      "Prof-school       576\n",
      "9th               514\n",
      "12th              433\n",
      "Doctorate         413\n",
      "5th-6th           333\n",
      "1st-4th           168\n",
      "Preschool          51\n",
      "Name: education, dtype: int64\n",
      "\n",
      "\n",
      "17.4\n"
     ]
    }
   ],
   "source": [
    "print(my_df[\"education\"].value_counts())\n",
    "print(\"\\n\")\n",
    "\n",
    "less_edu = len((my_df[(my_df[\"salary\"]==\">50K\") & ((my_df[\"education\"]!= \"Bachelors\") & (my_df[\"education\"]!=\"Masters\") & (my_df[\"education\"]!=\"Doctorate\"))]))\n",
    "all_less_edu = len(my_df[(my_df[\"education\"]!= \"Bachelors\") & (my_df[\"education\"]!=\"Masters\") & (my_df[\"education\"] != \"Doctorate\")])\n",
    "\n",
    "less_edu_percent = round((less_edu/all_less_edu) * 100, 1)\n",
    "print(less_edu_percent)\n"
   ]
  },
  {
   "cell_type": "markdown",
   "metadata": {},
   "source": [
    "The project then asked to find the minimum number of hours anyone worked per week. This was quite easy to do by finding the minimum of the hours-per-week column."
   ]
  },
  {
   "cell_type": "code",
   "execution_count": 7,
   "metadata": {},
   "outputs": [
    {
     "data": {
      "text/plain": [
       "1"
      ]
     },
     "execution_count": 7,
     "metadata": {},
     "output_type": "execute_result"
    }
   ],
   "source": [
    "my_df[\"hours-per-week\"].min()"
   ]
  },
  {
   "cell_type": "markdown",
   "metadata": {},
   "source": [
    "Then we calculate the number of people who work the minimum number of hours per week and have a salary of >=50K. 20 people seems surprisingly high; it must a pretty nice gig to pay a salary for one hour of work per week. We then want to find what percentage this is, which is easy enough. "
   ]
  },
  {
   "cell_type": "code",
   "execution_count": 18,
   "metadata": {
    "scrolled": true
   },
   "outputs": [
    {
     "name": "stdout",
     "output_type": "stream",
     "text": [
      "2\n",
      "10.0\n"
     ]
    }
   ],
   "source": [
    "short_hours_big_money = len((my_df[(my_df[\"hours-per-week\"]==1) & (my_df[\"salary\"]== \">50K\")]))\n",
    "print(short_hours_big_money)\n",
    "\n",
    "short_per = short_hours_big_money/len(my_df[(my_df[\"hours-per-week\"]==1)])\n",
    "print(round(short_per*100, 1))"
   ]
  },
  {
   "cell_type": "markdown",
   "metadata": {},
   "source": [
    "Next I answered, \"What country has the highest percentage of people that earn >50K and what is that percentage?\". I found this easiest to do with a quick crosstab calculating the percentage of people with a salary over 50K, then just taking the max value. "
   ]
  },
  {
   "cell_type": "code",
   "execution_count": 9,
   "metadata": {
    "scrolled": true
   },
   "outputs": [
    {
     "name": "stdout",
     "output_type": "stream",
     "text": [
      "salary\n",
      "<=50K    0.581395\n",
      ">50K     0.418605\n",
      "Name: Iran, dtype: float64\n",
      "41.9\n"
     ]
    }
   ],
   "source": [
    "cross_df = pd.crosstab(my_df[\"native-country\"],my_df['salary']).apply(lambda r: r/r.sum(), axis=1)\n",
    "#print(cross_df)\n",
    "\n",
    "result = cross_df[(cross_df[\">50K\"] == cross_df[\">50K\"].max())]\n",
    "print(result.iloc[0])\n",
    "print(round((cross_df[\">50K\"].max()*100), 1))"
   ]
  },
  {
   "cell_type": "markdown",
   "metadata": {},
   "source": [
    "Finally, we want to identify the most popular occupatio nfor those who earn >50K in India. This time I decided to use filters to find the needed values, then group by occupation. I then aggregated the values by size, essentially counting the rows for each occupation, then put that in a dataframe. I then grabbed the maximum row in that data frame, and assigned it to a new variable. I then found the occupation by using iloc.\n",
    "\n",
    "This makes me miss SQL."
   ]
  },
  {
   "cell_type": "code",
   "execution_count": 10,
   "metadata": {},
   "outputs": [
    {
     "name": "stdout",
     "output_type": "stream",
     "text": [
      "Prof-specialty\n"
     ]
    }
   ],
   "source": [
    "india_df = my_df[(my_df[\"native-country\"] == \"India\") & (my_df[\"salary\"] == \">50K\")]\n",
    "count_df = india_df.groupby(\"occupation\")\n",
    "count_df_agg = count_df.agg(np.size)\n",
    "\n",
    "max_value = count_df_agg[(count_df_agg[\"age\"]==count_df_agg[\"age\"].max())]\n",
    "\n",
    "pop_oc = (max_value.iloc[0].name)\n",
    "print(pop_oc)"
   ]
  },
  {
   "cell_type": "code",
   "execution_count": null,
   "metadata": {},
   "outputs": [],
   "source": []
  }
 ],
 "metadata": {
  "kernelspec": {
   "display_name": "Python 3",
   "language": "python",
   "name": "python3"
  },
  "language_info": {
   "codemirror_mode": {
    "name": "ipython",
    "version": 3
   },
   "file_extension": ".py",
   "mimetype": "text/x-python",
   "name": "python",
   "nbconvert_exporter": "python",
   "pygments_lexer": "ipython3",
   "version": "3.7.4"
  }
 },
 "nbformat": 4,
 "nbformat_minor": 2
}
